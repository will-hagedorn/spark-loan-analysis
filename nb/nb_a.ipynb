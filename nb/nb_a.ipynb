{
 "cells": [
  {
   "cell_type": "code",
   "execution_count": 1,
   "id": "da1e0d97-b425-4fe2-b085-214cf02d9bcd",
   "metadata": {},
   "outputs": [],
   "source": [
    "# Will Hagedorn\n",
    "!hdfs dfs -D dfs.replication=1 -cp -f data/*.csv hdfs://nn:9000/"
   ]
  },
  {
   "cell_type": "code",
   "execution_count": 2,
   "id": "4edc1274-c16e-46a8-9bdf-1203297992e9",
   "metadata": {},
   "outputs": [
    {
     "name": "stderr",
     "output_type": "stream",
     "text": [
      "Setting default log level to \"WARN\".\n",
      "To adjust logging level use sc.setLogLevel(newLevel). For SparkR, use setLogLevel(newLevel).\n",
      "24/11/04 18:57:42 WARN NativeCodeLoader: Unable to load native-hadoop library for your platform... using builtin-java classes where applicable\n"
     ]
    }
   ],
   "source": [
    "from pyspark.sql import SparkSession\n",
    "spark = (SparkSession.builder.appName(\"cs544\")\n",
    "         .master(\"spark://boss:7077\")\n",
    "         .config(\"spark.executor.memory\", \"512M\")\n",
    "         .config(\"spark.sql.warehouse.dir\", \"hdfs://nn:9000/user/hive/warehouse\")\n",
    "         .enableHiveSupport()\n",
    "         .getOrCreate())"
   ]
  },
  {
   "cell_type": "code",
   "execution_count": 3,
   "id": "80c601de-5e69-43b5-be87-c354c4ab4112",
   "metadata": {},
   "outputs": [
    {
     "name": "stderr",
     "output_type": "stream",
     "text": [
      "                                                                                \r"
     ]
    },
    {
     "data": {
      "text/plain": [
       "298"
      ]
     },
     "execution_count": 3,
     "metadata": {},
     "output_type": "execute_result"
    }
   ],
   "source": [
    "#q1\n",
    "banks_df = spark.read.option(\"header\", True).option(\"inferSchema\", True).csv(\"hdfs://nn:9000/arid2017_to_lei_xref_csv.csv\")\n",
    "rows = banks_df.rdd\n",
    "\n",
    "#Lambda func\n",
    "checkNames = lambda row: row[\"respondent_name\"].split()[0] == \"The\"\n",
    "\n",
    "filteredRDD = rows.filter(checkNames)\n",
    "filteredRDD.count()"
   ]
  },
  {
   "cell_type": "code",
   "execution_count": 4,
   "id": "72abe806-a2e6-4fe9-a4ca-3edb99108913",
   "metadata": {},
   "outputs": [
    {
     "name": "stderr",
     "output_type": "stream",
     "text": [
      "                                                                                \r"
     ]
    },
    {
     "data": {
      "text/plain": [
       "298"
      ]
     },
     "execution_count": 4,
     "metadata": {},
     "output_type": "execute_result"
    }
   ],
   "source": [
    "#q2\n",
    "filteredDF = banks_df.filter(\"respondent_name LIKE 'The%'\")\n",
    "filteredDF.count()"
   ]
  },
  {
   "cell_type": "code",
   "execution_count": 5,
   "id": "445018e0-e587-4835-8f08-b12ceb2d121d",
   "metadata": {},
   "outputs": [
    {
     "name": "stderr",
     "output_type": "stream",
     "text": [
      "24/11/04 18:58:31 WARN HiveConf: HiveConf of name hive.stats.jdbc.timeout does not exist\n",
      "24/11/04 18:58:31 WARN HiveConf: HiveConf of name hive.stats.retries.wait does not exist\n",
      "24/11/04 18:58:36 WARN ObjectStore: Version information not found in metastore. hive.metastore.schema.verification is not enabled so recording the schema version 2.3.0\n",
      "24/11/04 18:58:36 WARN ObjectStore: setMetaStoreSchemaVersion called but recording version is disabled: version = 2.3.0, comment = Set by MetaStore UNKNOWN@172.19.0.5\n",
      "24/11/04 18:58:38 WARN ObjectStore: Failed to get database global_temp, returning NoSuchObjectException\n",
      "24/11/04 18:58:43 WARN SessionState: METASTORE_FILTER_HOOK will be ignored, since hive.security.authorization.manager is set to instance of HiveAuthorizerFactory.\n",
      "24/11/04 18:58:43 WARN HiveConf: HiveConf of name hive.internal.ss.authz.settings.applied.marker does not exist\n",
      "24/11/04 18:58:43 WARN HiveConf: HiveConf of name hive.stats.jdbc.timeout does not exist\n",
      "24/11/04 18:58:43 WARN HiveConf: HiveConf of name hive.stats.retries.wait does not exist\n",
      "                                                                                \r"
     ]
    },
    {
     "data": {
      "text/plain": [
       "298"
      ]
     },
     "execution_count": 5,
     "metadata": {},
     "output_type": "execute_result"
    }
   ],
   "source": [
    "#q3\n",
    "banks_df.write.saveAsTable(\"banks\", mode=\"overwrite\")\n",
    "filteredSQL = spark.sql(\"SELECT * FROM banks WHERE respondent_name LIKE 'The%'\")\n",
    "\n",
    "filteredSQL.count()"
   ]
  },
  {
   "cell_type": "code",
   "execution_count": 6,
   "id": "4a8505b0-1808-47db-aa9a-2b24954e2de6",
   "metadata": {},
   "outputs": [
    {
     "name": "stderr",
     "output_type": "stream",
     "text": [
      "24/11/04 18:59:02 WARN SparkStringUtils: Truncated the string representation of a plan since it was too large. This behavior can be adjusted by setting 'spark.sql.debug.maxToStringFields'.\n",
      "                                                                                \r"
     ]
    }
   ],
   "source": [
    "#Loans table\n",
    "loans_df = spark.read.option(\"header\", True).option(\"inferSchema\", True).csv(\"hdfs://nn:9000/hdma-wi-2021.csv\")\n",
    "loans_df.write.bucketBy(8, \"county_code\").saveAsTable(\"loans\", mode=\"overwrite\")\n",
    "\n",
    "#Views\n",
    "views = [\"ethnicity\", \"race\", \"sex\", \"states\", \"counties\", \"tracts\", \"action_taken\",\n",
    " \"denial_reason\", \"loan_type\", \"loan_purpose\", \"preapproval\", \"property_type\"]\n",
    "\n",
    "for view in views:\n",
    "    viewDF = spark.read.option(\"header\", True).option(\"inferSchema\", True).csv(f\"hdfs://nn:9000/{view}.csv\")\n",
    "    #Create view\n",
    "    viewDF.createOrReplaceTempView(view)"
   ]
  },
  {
   "cell_type": "code",
   "execution_count": 7,
   "id": "760f9dda-1dca-4421-b733-3b6d8c07089d",
   "metadata": {},
   "outputs": [
    {
     "data": {
      "text/plain": [
       "{'banks': False,\n",
       " 'loans': False,\n",
       " 'action_taken': True,\n",
       " 'counties': True,\n",
       " 'denial_reason': True,\n",
       " 'ethnicity': True,\n",
       " 'loan_purpose': True,\n",
       " 'loan_type': True,\n",
       " 'preapproval': True,\n",
       " 'property_type': True,\n",
       " 'race': True,\n",
       " 'sex': True,\n",
       " 'states': True,\n",
       " 'tracts': True}"
      ]
     },
     "execution_count": 7,
     "metadata": {},
     "output_type": "execute_result"
    }
   ],
   "source": [
    "#q4\n",
    "tables = spark.sql(\"SHOW TABLES\").collect()\n",
    "dict = {}\n",
    "\n",
    "for table in tables:\n",
    "    dict[table[\"tableName\"]] = table[\"isTemporary\"]\n",
    "\n",
    "dict"
   ]
  },
  {
   "cell_type": "code",
   "execution_count": 8,
   "id": "ae0aa750-2d1a-45e2-b731-971e178440a6",
   "metadata": {},
   "outputs": [
    {
     "name": "stderr",
     "output_type": "stream",
     "text": [
      "                                                                                \r"
     ]
    },
    {
     "data": {
      "text/plain": [
       "19739"
      ]
     },
     "execution_count": 8,
     "metadata": {},
     "output_type": "execute_result"
    }
   ],
   "source": [
    "#q5\n",
    "loansDF = spark.sql(\"\"\"\n",
    "          SELECT * FROM banks \n",
    "          INNER JOIN loans ON banks.lei_2020 = loans.lei \n",
    "          WHERE banks.respondent_name LIKE 'University of Wisconsin Credit Union'\n",
    "          \"\"\")\n",
    "\n",
    "loansDF.count()"
   ]
  },
  {
   "cell_type": "code",
   "execution_count": 9,
   "id": "01dc7688-8ea6-4176-97aa-8fb97c31d19d",
   "metadata": {},
   "outputs": [
    {
     "name": "stdout",
     "output_type": "stream",
     "text": [
      "== Physical Plan ==\n",
      "AdaptiveSparkPlan (7)\n",
      "+- BroadcastHashJoin Inner BuildLeft (6)\n",
      "   :- BroadcastExchange (3)\n",
      "   :  +- Filter (2)\n",
      "   :     +- Scan parquet spark_catalog.default.banks (1)\n",
      "   +- Filter (5)\n",
      "      +- Scan parquet spark_catalog.default.loans (4)\n",
      "\n",
      "\n",
      "(1) Scan parquet spark_catalog.default.banks\n",
      "Output [5]: [respondent_name#64, arid_2017#65, lei_2018#66, lei_2019#67, lei_2020#68]\n",
      "Batched: true\n",
      "Location: InMemoryFileIndex [hdfs://nn:9000/user/hive/warehouse/banks]\n",
      "PushedFilters: [IsNotNull(respondent_name), EqualTo(respondent_name,University of Wisconsin Credit Union), IsNotNull(lei_2020)]\n",
      "ReadSchema: struct<respondent_name:string,arid_2017:string,lei_2018:string,lei_2019:string,lei_2020:string>\n",
      "\n",
      "(2) Filter\n",
      "Input [5]: [respondent_name#64, arid_2017#65, lei_2018#66, lei_2019#67, lei_2020#68]\n",
      "Condition : ((isnotnull(respondent_name#64) AND (respondent_name#64 = University of Wisconsin Credit Union)) AND isnotnull(lei_2020#68))\n",
      "\n",
      "(3) BroadcastExchange\n",
      "Input [5]: [respondent_name#64, arid_2017#65, lei_2018#66, lei_2019#67, lei_2020#68]\n",
      "Arguments: HashedRelationBroadcastMode(List(input[4, string, false]),false), [plan_id=609]\n",
      "\n",
      "(4) Scan parquet spark_catalog.default.loans\n",
      "Output [99]: [activity_year#996, lei#997, derived_msa-md#998, state_code#999, county_code#1000, census_tract#1001, conforming_loan_limit#1002, derived_loan_product_type#1003, derived_dwelling_category#1004, derived_ethnicity#1005, derived_race#1006, derived_sex#1007, action_taken#1008, purchaser_type#1009, preapproval#1010, loan_type#1011, loan_purpose#1012, lien_status#1013, reverse_mortgage#1014, open-end_line_of_credit#1015, business_or_commercial_purpose#1016, loan_amount#1017, loan_to_value_ratio#1018, interest_rate#1019, rate_spread#1020, hoepa_status#1021, total_loan_costs#1022, total_points_and_fees#1023, origination_charges#1024, discount_points#1025, lender_credits#1026, loan_term#1027, prepayment_penalty_term#1028, intro_rate_period#1029, negative_amortization#1030, interest_only_payment#1031, balloon_payment#1032, other_nonamortizing_features#1033, property_value#1034, construction_method#1035, occupancy_type#1036, manufactured_home_secured_property_type#1037, manufactured_home_land_property_interest#1038, total_units#1039, multifamily_affordable_units#1040, income#1041, debt_to_income_ratio#1042, applicant_credit_score_type#1043, co-applicant_credit_score_type#1044, applicant_ethnicity-1#1045, applicant_ethnicity-2#1046, applicant_ethnicity-3#1047, applicant_ethnicity-4#1048, applicant_ethnicity-5#1049, co-applicant_ethnicity-1#1050, co-applicant_ethnicity-2#1051, co-applicant_ethnicity-3#1052, co-applicant_ethnicity-4#1053, co-applicant_ethnicity-5#1054, applicant_ethnicity_observed#1055, co-applicant_ethnicity_observed#1056, applicant_race-1#1057, applicant_race-2#1058, applicant_race-3#1059, applicant_race-4#1060, applicant_race-5#1061, co-applicant_race-1#1062, co-applicant_race-2#1063, co-applicant_race-3#1064, co-applicant_race-4#1065, co-applicant_race-5#1066, applicant_race_observed#1067, co-applicant_race_observed#1068, applicant_sex#1069, co-applicant_sex#1070, applicant_sex_observed#1071, co-applicant_sex_observed#1072, applicant_age#1073, co-applicant_age#1074, applicant_age_above_62#1075, co-applicant_age_above_62#1076, submission_of_application#1077, initially_payable_to_institution#1078, aus-1#1079, aus-2#1080, aus-3#1081, aus-4#1082, aus-5#1083, denial_reason-1#1084, denial_reason-2#1085, denial_reason-3#1086, denial_reason-4#1087, tract_population#1088, tract_minority_population_percent#1089, ffiec_msa_md_median_family_income#1090, tract_to_msa_income_percentage#1091, tract_owner_occupied_units#1092, tract_one_to_four_family_homes#1093, tract_median_age_of_housing_units#1094]\n",
      "Batched: true\n",
      "Bucketed: false (disabled by query planner)\n",
      "Location: InMemoryFileIndex [hdfs://nn:9000/user/hive/warehouse/loans]\n",
      "PushedFilters: [IsNotNull(lei)]\n",
      "ReadSchema: struct<activity_year:int,lei:string,derived_msa-md:int,state_code:string,county_code:string,census_tract:string,conforming_loan_limit:string,derived_loan_product_type:string,derived_dwelling_category:string,derived_ethnicity:string,derived_race:string,derived_sex:string,action_taken:int,purchaser_type:int,preapproval:int,loan_type:int,loan_purpose:int,lien_status:int,reverse_mortgage:int,open-end_line_of_credit:int,business_or_commercial_purpose:int,loan_amount:double,loan_to_value_ratio:string,interest_rate:string,rate_spread:string,hoepa_status:int,total_loan_costs:string,total_points_and_fees:string,origination_charges:string,discount_points:string,lender_credits:string,loan_term:string,prepayment_penalty_term:string,intro_rate_period:string,negative_amortization:int,interest_only_payment:int,balloon_payment:int,other_nonamortizing_features:int,property_value:string,construction_method:int,occupancy_type:int,manufactured_home_secured_property_type:int,manufactured_home_land_property_interest:int,total_units:string,multifamily_affordable_units:string,income:string,debt_to_income_ratio:string,applicant_credit_score_type:int,co-applicant_credit_score_type:int,applicant_ethnicity-1:int,applicant_ethnicity-2:int,applicant_ethnicity-3:int,applicant_ethnicity-4:int,applicant_ethnicity-5:int,co-applicant_ethnicity-1:int,co-applicant_ethnicity-2:int,co-applicant_ethnicity-3:int,co-applicant_ethnicity-4:int,co-applicant_ethnicity-5:string,applicant_ethnicity_observed:int,co-applicant_ethnicity_observed:int,applicant_race-1:int,applicant_race-2:int,applicant_race-3:int,applicant_race-4:int,applicant_race-5:int,co-applicant_race-1:int,co-applicant_race-2:int,co-applicant_race-3:int,co-applicant_race-4:int,co-applicant_race-5:int,applicant_race_observed:int,co-applicant_race_observed:int,applicant_sex:int,co-applicant_sex:int,applicant_sex_observed:int,co-applicant_sex_observed:int,applicant_age:string,co-applicant_age:string,applicant_age_above_62:string,co-applicant_age_above_62:string,submission_of_application:int,initially_payable_to_institution:int,aus-1:int,aus-2:int,aus-3:int,aus-4:int,aus-5:int,denial_reason-1:int,denial_reason-2:int,denial_reason-3:int,denial_reason-4:int,tract_population:int,tract_minority_population_percent:double,ffiec_msa_md_median_family_income:int,tract_to_msa_income_percentage:int,tract_owner_occupied_units:int,tract_one_to_four_family_homes:int,tract_median_age_of_housing_units:int>\n",
      "\n",
      "(5) Filter\n",
      "Input [99]: [activity_year#996, lei#997, derived_msa-md#998, state_code#999, county_code#1000, census_tract#1001, conforming_loan_limit#1002, derived_loan_product_type#1003, derived_dwelling_category#1004, derived_ethnicity#1005, derived_race#1006, derived_sex#1007, action_taken#1008, purchaser_type#1009, preapproval#1010, loan_type#1011, loan_purpose#1012, lien_status#1013, reverse_mortgage#1014, open-end_line_of_credit#1015, business_or_commercial_purpose#1016, loan_amount#1017, loan_to_value_ratio#1018, interest_rate#1019, rate_spread#1020, hoepa_status#1021, total_loan_costs#1022, total_points_and_fees#1023, origination_charges#1024, discount_points#1025, lender_credits#1026, loan_term#1027, prepayment_penalty_term#1028, intro_rate_period#1029, negative_amortization#1030, interest_only_payment#1031, balloon_payment#1032, other_nonamortizing_features#1033, property_value#1034, construction_method#1035, occupancy_type#1036, manufactured_home_secured_property_type#1037, manufactured_home_land_property_interest#1038, total_units#1039, multifamily_affordable_units#1040, income#1041, debt_to_income_ratio#1042, applicant_credit_score_type#1043, co-applicant_credit_score_type#1044, applicant_ethnicity-1#1045, applicant_ethnicity-2#1046, applicant_ethnicity-3#1047, applicant_ethnicity-4#1048, applicant_ethnicity-5#1049, co-applicant_ethnicity-1#1050, co-applicant_ethnicity-2#1051, co-applicant_ethnicity-3#1052, co-applicant_ethnicity-4#1053, co-applicant_ethnicity-5#1054, applicant_ethnicity_observed#1055, co-applicant_ethnicity_observed#1056, applicant_race-1#1057, applicant_race-2#1058, applicant_race-3#1059, applicant_race-4#1060, applicant_race-5#1061, co-applicant_race-1#1062, co-applicant_race-2#1063, co-applicant_race-3#1064, co-applicant_race-4#1065, co-applicant_race-5#1066, applicant_race_observed#1067, co-applicant_race_observed#1068, applicant_sex#1069, co-applicant_sex#1070, applicant_sex_observed#1071, co-applicant_sex_observed#1072, applicant_age#1073, co-applicant_age#1074, applicant_age_above_62#1075, co-applicant_age_above_62#1076, submission_of_application#1077, initially_payable_to_institution#1078, aus-1#1079, aus-2#1080, aus-3#1081, aus-4#1082, aus-5#1083, denial_reason-1#1084, denial_reason-2#1085, denial_reason-3#1086, denial_reason-4#1087, tract_population#1088, tract_minority_population_percent#1089, ffiec_msa_md_median_family_income#1090, tract_to_msa_income_percentage#1091, tract_owner_occupied_units#1092, tract_one_to_four_family_homes#1093, tract_median_age_of_housing_units#1094]\n",
      "Condition : isnotnull(lei#997)\n",
      "\n",
      "(6) BroadcastHashJoin\n",
      "Left keys [1]: [lei_2020#68]\n",
      "Right keys [1]: [lei#997]\n",
      "Join type: Inner\n",
      "Join condition: None\n",
      "\n",
      "(7) AdaptiveSparkPlan\n",
      "Output [104]: [respondent_name#64, arid_2017#65, lei_2018#66, lei_2019#67, lei_2020#68, activity_year#996, lei#997, derived_msa-md#998, state_code#999, county_code#1000, census_tract#1001, conforming_loan_limit#1002, derived_loan_product_type#1003, derived_dwelling_category#1004, derived_ethnicity#1005, derived_race#1006, derived_sex#1007, action_taken#1008, purchaser_type#1009, preapproval#1010, loan_type#1011, loan_purpose#1012, lien_status#1013, reverse_mortgage#1014, open-end_line_of_credit#1015, business_or_commercial_purpose#1016, loan_amount#1017, loan_to_value_ratio#1018, interest_rate#1019, rate_spread#1020, hoepa_status#1021, total_loan_costs#1022, total_points_and_fees#1023, origination_charges#1024, discount_points#1025, lender_credits#1026, loan_term#1027, prepayment_penalty_term#1028, intro_rate_period#1029, negative_amortization#1030, interest_only_payment#1031, balloon_payment#1032, other_nonamortizing_features#1033, property_value#1034, construction_method#1035, occupancy_type#1036, manufactured_home_secured_property_type#1037, manufactured_home_land_property_interest#1038, total_units#1039, multifamily_affordable_units#1040, income#1041, debt_to_income_ratio#1042, applicant_credit_score_type#1043, co-applicant_credit_score_type#1044, applicant_ethnicity-1#1045, applicant_ethnicity-2#1046, applicant_ethnicity-3#1047, applicant_ethnicity-4#1048, applicant_ethnicity-5#1049, co-applicant_ethnicity-1#1050, co-applicant_ethnicity-2#1051, co-applicant_ethnicity-3#1052, co-applicant_ethnicity-4#1053, co-applicant_ethnicity-5#1054, applicant_ethnicity_observed#1055, co-applicant_ethnicity_observed#1056, applicant_race-1#1057, applicant_race-2#1058, applicant_race-3#1059, applicant_race-4#1060, applicant_race-5#1061, co-applicant_race-1#1062, co-applicant_race-2#1063, co-applicant_race-3#1064, co-applicant_race-4#1065, co-applicant_race-5#1066, applicant_race_observed#1067, co-applicant_race_observed#1068, applicant_sex#1069, co-applicant_sex#1070, applicant_sex_observed#1071, co-applicant_sex_observed#1072, applicant_age#1073, co-applicant_age#1074, applicant_age_above_62#1075, co-applicant_age_above_62#1076, submission_of_application#1077, initially_payable_to_institution#1078, aus-1#1079, aus-2#1080, aus-3#1081, aus-4#1082, aus-5#1083, denial_reason-1#1084, denial_reason-2#1085, denial_reason-3#1086, denial_reason-4#1087, tract_population#1088, tract_minority_population_percent#1089, ffiec_msa_md_median_family_income#1090, tract_to_msa_income_percentage#1091, tract_owner_occupied_units#1092, tract_one_to_four_family_homes#1093, tract_median_age_of_housing_units#1094]\n",
      "Arguments: isFinalPlan=false\n",
      "\n",
      "\n"
     ]
    }
   ],
   "source": [
    "#q6\n",
    "loansDF.explain(\"formatted\")\n",
    "\n",
    "#1. The 'banks' table is being sent to every executor via a BroadcastExchange operation. \n",
    "#   This makes sense because 'banks' is the smaller of the two tables making broadcasting it less expensive.\n",
    "#2. My implementation does not involve HashAggregates, however if I had done 'COUNT(*)' within the query it would.\n",
    "#   In this case their would be multiple 'COUNT' aggregates. "
   ]
  },
  {
   "cell_type": "code",
   "execution_count": 10,
   "id": "1e14e451-4c37-4cd2-b071-f2da9b67adca",
   "metadata": {},
   "outputs": [
    {
     "name": "stderr",
     "output_type": "stream",
     "text": [
      "                                                                                \r"
     ]
    },
    {
     "data": {
      "text/plain": [
       "{'Milwaukee': 3.1173465727097907,\n",
       " 'Waukesha': 2.8758225602027756,\n",
       " 'Washington': 2.851009389671362,\n",
       " 'Dane': 2.890674955595027,\n",
       " 'Brown': 3.010949119373777,\n",
       " 'Racine': 3.099783715012723,\n",
       " 'Outagamie': 2.979661835748792,\n",
       " 'Winnebago': 3.0284761904761908,\n",
       " 'Ozaukee': 2.8673765432098772,\n",
       " 'Sheboygan': 2.995511111111111}"
      ]
     },
     "execution_count": 10,
     "metadata": {},
     "output_type": "execute_result"
    }
   ],
   "source": [
    "#q7\n",
    "\n",
    "import pandas as pd\n",
    "\n",
    "banksTable = spark.table(\"banks\")\n",
    "loansTable = spark.table(\"loans\")\n",
    "countiesTable = spark.table(\"counties\")\n",
    "\n",
    "avgRates = (\n",
    "    banksTable\n",
    "    .join(loansTable, how=\"inner\", on=(banksTable[\"lei_2020\"] == loansTable[\"lei\"]))\n",
    "    .filter(banksTable[\"respondent_name\"] == \"Wells Fargo Bank, National Association\")\n",
    "    .join(countiesTable, how=\"inner\", on=(loansTable[\"county_code\"] == countiesTable[\"STATE\"]*1000 + countiesTable[\"COUNTY\"]))\n",
    "    .select(\"respondent_name\", \"activity_year\", \"NAME\", \"loan_amount\", \"interest_rate\")\n",
    "    .groupBy(\"NAME\")\n",
    "    .agg({\"interest_rate\" : \"mean\"})\n",
    ")\n",
    "\n",
    "topTen = (\n",
    "    banksTable\n",
    "    .join(loansTable, how=\"inner\", on=(banksTable[\"lei_2020\"] == loansTable[\"lei\"]))\n",
    "    .filter(banksTable[\"respondent_name\"] == \"Wells Fargo Bank, National Association\")\n",
    "    .join(countiesTable, how=\"inner\", on=(loansTable[\"county_code\"] == countiesTable[\"STATE\"]*1000 + countiesTable[\"COUNTY\"]))\n",
    "    .groupBy(\"NAME\")\n",
    "    .count()\n",
    "    .orderBy(\"count\", ascending=False)\n",
    "    .limit(10)\n",
    "    .select(\"NAME\", \"count\")\n",
    ")\n",
    "\n",
    "countyRates = (\n",
    "    topTen\n",
    "    .join(avgRates, how=\"left\", on=(avgRates[\"NAME\"] == topTen[\"NAME\"]))\n",
    "    .orderBy(\"count\", ascending=False)\n",
    "    .collect()\n",
    ")\n",
    "\n",
    "#Put in a Dict\n",
    "dict = {}\n",
    "\n",
    "for row in countyRates:\n",
    "    dict[row[\"NAME\"]] = row[\"avg(interest_rate)\"]\n",
    "\n",
    "dict"
   ]
  },
  {
   "cell_type": "code",
   "execution_count": 11,
   "id": "c9e9c8e7-2c76-42aa-abc8-45f4cb0afdc1",
   "metadata": {},
   "outputs": [
    {
     "data": {
      "text/plain": [
       "<Axes: xlabel='name', ylabel='Average Interest Rate'>"
      ]
     },
     "execution_count": 11,
     "metadata": {},
     "output_type": "execute_result"
    },
    {
     "data": {
      "image/png": "[encoded data removed]",
      "text/plain": [
       "<Figure size 700x300 with 1 Axes>"
      ]
     },
     "metadata": {},
     "output_type": "display_data"
    }
   ],
   "source": [
    "#Plot data\n",
    "pandas_df = pd.DataFrame(list(dict.items()), columns=[\"county\", \"avg interest\"]) \n",
    "ax = (pandas_df.set_index(\"county\")[\"avg interest\"]).plot.bar(figsize=(7,3))\n",
    "ax.set_ylabel(\"Average Interest Rate\")\n",
    "ax.set_xlabel(\"name\")\n",
    "\n",
    "ax"
   ]
  },
  {
   "cell_type": "code",
   "execution_count": 12,
   "id": "ea4809f4-c45d-4b1c-b05d-f7abce9ea738",
   "metadata": {},
   "outputs": [
    {
     "name": "stdout",
     "output_type": "stream",
     "text": [
      "== Physical Plan ==\n",
      "AdaptiveSparkPlan isFinalPlan=false\n",
      "+- HashAggregate(keys=[county_code#1000], functions=[mean(cast(interest_rate#1019 as double))])\n",
      "   +- HashAggregate(keys=[county_code#1000], functions=[partial_mean(cast(interest_rate#1019 as double))])\n",
      "      +- FileScan parquet spark_catalog.default.loans[county_code#1000,interest_rate#1019] Batched: true, Bucketed: true, DataFilters: [], Format: Parquet, Location: InMemoryFileIndex(1 paths)[hdfs://nn:9000/user/hive/warehouse/loans], PartitionFilters: [], PushedFilters: [], ReadSchema: struct<county_code:string,interest_rate:string>, SelectedBucketsCount: 8 out of 8\n",
      "\n",
      "\n",
      "== Physical Plan ==\n",
      "AdaptiveSparkPlan isFinalPlan=false\n",
      "+- HashAggregate(keys=[lei#997], functions=[mean(cast(interest_rate#1019 as double))])\n",
      "   +- Exchange hashpartitioning(lei#997, 200), ENSURE_REQUIREMENTS, [plan_id=1544]\n",
      "      +- HashAggregate(keys=[lei#997], functions=[partial_mean(cast(interest_rate#1019 as double))])\n",
      "         +- FileScan parquet spark_catalog.default.loans[lei#997,interest_rate#1019] Batched: true, Bucketed: false (bucket column(s) not read), DataFilters: [], Format: Parquet, Location: InMemoryFileIndex(1 paths)[hdfs://nn:9000/user/hive/warehouse/loans], PartitionFilters: [], PushedFilters: [], ReadSchema: struct<lei:string,interest_rate:string>\n",
      "\n",
      "\n"
     ]
    }
   ],
   "source": [
    "#q8\n",
    "\n",
    "#Group by county_code\n",
    "spark.sql(\"\"\"\n",
    "    SELECT county_code, mean(interest_rate) \n",
    "    FROM loans\n",
    "    GROUP BY county_code\n",
    "    \"\"\").explain()\n",
    "\n",
    "#Group by lei\n",
    "spark.sql(\"\"\"\n",
    "    SELECT lei, mean(interest_rate)\n",
    "    FROM loans\n",
    "    GROUP BY lei\n",
    "    \"\"\").explain()\n",
    "\n",
    "#1. Grouping by county_code did not require network I/O, but grouping by lei did. \n",
    "#   This is because when writing the loans table we created 8 buckets on county_code.\n",
    "#   This means rows with the same county_code will be in the same bucket, allowing Spark to avoid exchanging during the GroupBy."
   ]
  },
  {
   "cell_type": "code",
   "execution_count": 13,
   "id": "dd8ec4ac-01bc-48b0-a96d-9b1623444908",
   "metadata": {},
   "outputs": [
    {
     "data": {
      "text/plain": [
       "DataFrame[loan_amount: double, income: double, interest_rate: double, approval: decimal(2,1)]"
      ]
     },
     "execution_count": 13,
     "metadata": {},
     "output_type": "execute_result"
    }
   ],
   "source": [
    "\n",
    "mldf = spark.sql(\"\"\"\n",
    "    SELECT CAST(loan_amount AS DOUBLE), CAST(income AS DOUBLE), CAST(interest_rate AS DOUBLE),\n",
    "        CASE WHEN action_taken.action_taken = 'Loan originated' THEN 1.0 ELSE 0.0 END AS approval\n",
    "    FROM loans\n",
    "    JOIN action_taken ON action_taken.id = loans.action_taken\n",
    "    \"\"\")\n",
    "\n",
    "mldf = mldf.na.fill(0.0)\n",
    "\n",
    "# deterministic split\n",
    "train, test = mldf.randomSplit([0.8, 0.2], seed=41) \n",
    "train.cache()"
   ]
  },
  {
   "cell_type": "code",
   "execution_count": 14,
   "id": "c61c67dd-63b6-45bd-87ad-9a19ca9b3727",
   "metadata": {},
   "outputs": [
    {
     "name": "stderr",
     "output_type": "stream",
     "text": [
      "24/11/04 19:03:23 WARN DAGScheduler: Broadcasting large task binary with size 1086.7 KiB\n",
      "24/11/04 19:03:25 WARN DAGScheduler: Broadcasting large task binary with size 1379.0 KiB\n",
      "24/11/04 19:03:27 WARN DAGScheduler: Broadcasting large task binary with size 1699.8 KiB\n",
      "24/11/04 19:03:29 WARN DAGScheduler: Broadcasting large task binary with size 2.0 MiB\n",
      "24/11/04 19:03:31 WARN DAGScheduler: Broadcasting large task binary with size 2.4 MiB\n",
      "                                                                                \r"
     ]
    },
    {
     "data": {
      "text/plain": [
       "{'depth=1': 0.8809425750509244,\n",
       " 'depth=5': 0.8929195560947918,\n",
       " 'depth=10': 0.8954796914480349,\n",
       " 'depth=15': 0.8948674851679115,\n",
       " 'depth=20': 0.893943610236089}"
      ]
     },
     "execution_count": 14,
     "metadata": {},
     "output_type": "execute_result"
    }
   ],
   "source": [
    "#q9\n",
    "\n",
    "from pyspark.ml.feature import VectorAssembler\n",
    "from pyspark.ml.classification import DecisionTreeClassifier\n",
    "from pyspark.ml.pipeline import Pipeline\n",
    "from pyspark.ml.evaluation import MulticlassClassificationEvaluator\n",
    "\n",
    "accuracy = MulticlassClassificationEvaluator(metricName = \"accuracy\", labelCol = \"approval\", predictionCol = \"prediction\")\n",
    "va = VectorAssembler(inputCols=[\"loan_amount\", \"income\", \"interest_rate\"], outputCol=\"features\")\n",
    "\n",
    "depths = [1, 5, 10, 15, 20]\n",
    "dict = {}\n",
    "\n",
    "for depth in depths:\n",
    "    dt = DecisionTreeClassifier(featuresCol = \"features\", labelCol = \"approval\", maxDepth = depth, seed = 41)\n",
    "    pipe = Pipeline(stages = [va, dt])\n",
    "\n",
    "    model = pipe.fit(train)\n",
    "    preds = model.transform(test)\n",
    "\n",
    "    dict[f'depth={depth}'] = accuracy.evaluate(preds)\n",
    "\n",
    "dict"
   ]
  },
  {
   "cell_type": "code",
   "execution_count": 15,
   "id": "efa36ea4-a281-4342-974d-44eda398fb3c",
   "metadata": {},
   "outputs": [],
   "source": [
    "#q10\n",
    "#1. Test accuracy does not always increase with a larger max-depth value. \n",
    "#   When the max-depth is too high the model runs the risk of overfitting and 'memorizing' the training data.\n",
    "#   This means the model doesn't learn the patterns of the data and generalizes poorly to unseen test data.\n",
    "#   This can cause a plateua or decrease in model accuracy."
   ]
  },
  {
   "cell_type": "code",
   "execution_count": null,
   "id": "11244fce-a522-4cdf-abc1-89dbb7f267ed",
   "metadata": {},
   "outputs": [],
   "source": []
  }
 ],
 "metadata": {
  "kernelspec": {
   "display_name": "Python 3 (ipykernel)",
   "language": "python",
   "name": "python3"
  },
  "language_info": {
   "codemirror_mode": {
    "name": "ipython",
    "version": 3
   },
   "file_extension": ".py",
   "mimetype": "text/x-python",
   "name": "python",
   "nbconvert_exporter": "python",
   "pygments_lexer": "ipython3",
   "version": "3.10.12"
  }
 },
 "nbformat": 4,
 "nbformat_minor": 5
}
